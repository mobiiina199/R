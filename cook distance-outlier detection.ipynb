{
 "cells": [
  {
   "cell_type": "code",
   "execution_count": 2,
   "metadata": {},
   "outputs": [],
   "source": [
    "df = read.csv('E:/data/data science/data course/DATASET/seatdata.csv')"
   ]
  },
  {
   "cell_type": "code",
   "execution_count": 3,
   "metadata": {},
   "outputs": [
    {
     "data": {
      "text/html": [
       "<table>\n",
       "<caption>A data.frame: 6 × 8</caption>\n",
       "<thead>\n",
       "\t<tr><th></th><th scope=col>Stature</th><th scope=col>Sitting.Height</th><th scope=col>SHS</th><th scope=col>BMI</th><th scope=col>L11</th><th scope=col>H17</th><th scope=col>Weight</th><th scope=col>SeatX</th></tr>\n",
       "\t<tr><th></th><th scope=col>&lt;int&gt;</th><th scope=col>&lt;int&gt;</th><th scope=col>&lt;dbl&gt;</th><th scope=col>&lt;dbl&gt;</th><th scope=col>&lt;int&gt;</th><th scope=col>&lt;int&gt;</th><th scope=col>&lt;dbl&gt;</th><th scope=col>&lt;dbl&gt;</th></tr>\n",
       "</thead>\n",
       "<tbody>\n",
       "\t<tr><th scope=row>1</th><td>1740</td><td>931</td><td>0.5350575</td><td>18.39741</td><td>-55</td><td>685</td><td>55.7</td><td>320.0082</td></tr>\n",
       "\t<tr><th scope=row>2</th><td>1877</td><td>870</td><td>0.4635056</td><td>22.59355</td><td> 95</td><td>685</td><td>79.6</td><td>620.3178</td></tr>\n",
       "\t<tr><th scope=row>3</th><td>1764</td><td>962</td><td>0.5453515</td><td>22.88141</td><td> 20</td><td>635</td><td>71.2</td><td>606.8582</td></tr>\n",
       "\t<tr><th scope=row>4</th><td>1686</td><td>906</td><td>0.5373665</td><td>29.44492</td><td>-55</td><td>685</td><td>83.7</td><td>660.9378</td></tr>\n",
       "\t<tr><th scope=row>5</th><td>1786</td><td>933</td><td>0.5223964</td><td>22.76008</td><td> 95</td><td>685</td><td>72.6</td><td>615.8362</td></tr>\n",
       "\t<tr><th scope=row>6</th><td>1692</td><td>879</td><td>0.5195035</td><td>29.20153</td><td> 20</td><td>635</td><td>83.6</td><td>844.2308</td></tr>\n",
       "</tbody>\n",
       "</table>\n"
      ],
      "text/latex": [
       "A data.frame: 6 × 8\n",
       "\\begin{tabular}{r|llllllll}\n",
       "  & Stature & Sitting.Height & SHS & BMI & L11 & H17 & Weight & SeatX\\\\\n",
       "  & <int> & <int> & <dbl> & <dbl> & <int> & <int> & <dbl> & <dbl>\\\\\n",
       "\\hline\n",
       "\t1 & 1740 & 931 & 0.5350575 & 18.39741 & -55 & 685 & 55.7 & 320.0082\\\\\n",
       "\t2 & 1877 & 870 & 0.4635056 & 22.59355 &  95 & 685 & 79.6 & 620.3178\\\\\n",
       "\t3 & 1764 & 962 & 0.5453515 & 22.88141 &  20 & 635 & 71.2 & 606.8582\\\\\n",
       "\t4 & 1686 & 906 & 0.5373665 & 29.44492 & -55 & 685 & 83.7 & 660.9378\\\\\n",
       "\t5 & 1786 & 933 & 0.5223964 & 22.76008 &  95 & 685 & 72.6 & 615.8362\\\\\n",
       "\t6 & 1692 & 879 & 0.5195035 & 29.20153 &  20 & 635 & 83.6 & 844.2308\\\\\n",
       "\\end{tabular}\n"
      ],
      "text/markdown": [
       "\n",
       "A data.frame: 6 × 8\n",
       "\n",
       "| <!--/--> | Stature &lt;int&gt; | Sitting.Height &lt;int&gt; | SHS &lt;dbl&gt; | BMI &lt;dbl&gt; | L11 &lt;int&gt; | H17 &lt;int&gt; | Weight &lt;dbl&gt; | SeatX &lt;dbl&gt; |\n",
       "|---|---|---|---|---|---|---|---|---|\n",
       "| 1 | 1740 | 931 | 0.5350575 | 18.39741 | -55 | 685 | 55.7 | 320.0082 |\n",
       "| 2 | 1877 | 870 | 0.4635056 | 22.59355 |  95 | 685 | 79.6 | 620.3178 |\n",
       "| 3 | 1764 | 962 | 0.5453515 | 22.88141 |  20 | 635 | 71.2 | 606.8582 |\n",
       "| 4 | 1686 | 906 | 0.5373665 | 29.44492 | -55 | 685 | 83.7 | 660.9378 |\n",
       "| 5 | 1786 | 933 | 0.5223964 | 22.76008 |  95 | 685 | 72.6 | 615.8362 |\n",
       "| 6 | 1692 | 879 | 0.5195035 | 29.20153 |  20 | 635 | 83.6 | 844.2308 |\n",
       "\n"
      ],
      "text/plain": [
       "  Stature Sitting.Height SHS       BMI      L11 H17 Weight SeatX   \n",
       "1 1740    931            0.5350575 18.39741 -55 685 55.7   320.0082\n",
       "2 1877    870            0.4635056 22.59355  95 685 79.6   620.3178\n",
       "3 1764    962            0.5453515 22.88141  20 635 71.2   606.8582\n",
       "4 1686    906            0.5373665 29.44492 -55 685 83.7   660.9378\n",
       "5 1786    933            0.5223964 22.76008  95 685 72.6   615.8362\n",
       "6 1692    879            0.5195035 29.20153  20 635 83.6   844.2308"
      ]
     },
     "metadata": {},
     "output_type": "display_data"
    }
   ],
   "source": [
    "head(df)"
   ]
  },
  {
   "cell_type": "code",
   "execution_count": 4,
   "metadata": {},
   "outputs": [
    {
     "data": {
      "text/html": [
       "<style>\n",
       ".list-inline {list-style: none; margin:0; padding: 0}\n",
       ".list-inline>li {display: inline-block}\n",
       ".list-inline>li:not(:last-child)::after {content: \"\\00b7\"; padding: 0 .5ex}\n",
       "</style>\n",
       "<ol class=list-inline><li>399</li><li>8</li></ol>\n"
      ],
      "text/latex": [
       "\\begin{enumerate*}\n",
       "\\item 399\n",
       "\\item 8\n",
       "\\end{enumerate*}\n"
      ],
      "text/markdown": [
       "1. 399\n",
       "2. 8\n",
       "\n",
       "\n"
      ],
      "text/plain": [
       "[1] 399   8"
      ]
     },
     "metadata": {},
     "output_type": "display_data"
    }
   ],
   "source": [
    "dim(df)"
   ]
  },
  {
   "cell_type": "code",
   "execution_count": 5,
   "metadata": {},
   "outputs": [
    {
     "name": "stdout",
     "output_type": "stream",
     "text": [
      "'data.frame':\t399 obs. of  8 variables:\n",
      " $ Stature       : int  1740 1877 1764 1686 1786 1692 1936 1703 1683 1647 ...\n",
      " $ Sitting.Height: int  931 870 962 906 933 879 821 853 916 897 ...\n",
      " $ SHS           : num  0.535 0.464 0.545 0.537 0.522 ...\n",
      " $ BMI           : num  18.4 22.6 22.9 29.4 22.8 ...\n",
      " $ L11           : int  -55 95 20 -55 95 20 95 20 -55 95 ...\n",
      " $ H17           : int  685 685 635 685 685 635 685 635 585 685 ...\n",
      " $ Weight        : num  55.7 79.6 71.2 83.7 72.6 83.6 72.2 87.7 81.5 78.5 ...\n",
      " $ SeatX         : num  320 620 607 661 616 ...\n"
     ]
    }
   ],
   "source": [
    "str(df)"
   ]
  },
  {
   "cell_type": "code",
   "execution_count": 6,
   "metadata": {},
   "outputs": [
    {
     "data": {
      "text/plain": [
       "    Stature     Sitting.Height        SHS              BMI       \n",
       " Min.   :1513   Min.   : 792.0   Min.   :0.4241   Min.   :11.67  \n",
       " 1st Qu.:1683   1st Qu.: 870.0   1st Qu.:0.5003   1st Qu.:22.83  \n",
       " Median :1733   Median : 904.0   Median :0.5204   Median :26.18  \n",
       " Mean   :1734   Mean   : 902.5   Mean   :0.5214   Mean   :26.16  \n",
       " 3rd Qu.:1782   3rd Qu.: 933.0   3rd Qu.:0.5434   3rd Qu.:29.32  \n",
       " Max.   :1954   Max.   :1019.0   Max.   :0.6266   Max.   :41.91  \n",
       "      L11              H17            Weight           SeatX       \n",
       " Min.   :-55.00   Min.   :585.0   Min.   : 34.20   Min.   : 236.1  \n",
       " 1st Qu.:-55.00   1st Qu.:585.0   1st Qu.: 69.60   1st Qu.: 618.1  \n",
       " Median : 20.00   Median :635.0   Median : 78.50   Median : 728.9  \n",
       " Mean   : 19.44   Mean   :635.6   Mean   : 78.30   Mean   : 734.2  \n",
       " 3rd Qu.: 95.00   3rd Qu.:685.0   3rd Qu.: 87.75   3rd Qu.: 845.3  \n",
       " Max.   : 95.00   Max.   :685.0   Max.   :114.70   Max.   :1263.9  "
      ]
     },
     "metadata": {},
     "output_type": "display_data"
    }
   ],
   "source": [
    "summary(df)"
   ]
  },
  {
   "cell_type": "code",
   "execution_count": 7,
   "metadata": {},
   "outputs": [
    {
     "data": {
      "text/html": [
       "<table>\n",
       "<caption>A data.frame: 8 × 2</caption>\n",
       "<thead>\n",
       "\t<tr><th scope=col>Features</th><th scope=col>missing.values.counte</th></tr>\n",
       "\t<tr><th scope=col>&lt;fct&gt;</th><th scope=col>&lt;int&gt;</th></tr>\n",
       "</thead>\n",
       "<tbody>\n",
       "\t<tr><td>Stature       </td><td>0</td></tr>\n",
       "\t<tr><td>Sitting.Height</td><td>0</td></tr>\n",
       "\t<tr><td>SHS           </td><td>0</td></tr>\n",
       "\t<tr><td>BMI           </td><td>0</td></tr>\n",
       "\t<tr><td>L11           </td><td>0</td></tr>\n",
       "\t<tr><td>H17           </td><td>0</td></tr>\n",
       "\t<tr><td>Weight        </td><td>0</td></tr>\n",
       "\t<tr><td>SeatX         </td><td>0</td></tr>\n",
       "</tbody>\n",
       "</table>\n"
      ],
      "text/latex": [
       "A data.frame: 8 × 2\n",
       "\\begin{tabular}{ll}\n",
       " Features & missing.values.counte\\\\\n",
       " <fct> & <int>\\\\\n",
       "\\hline\n",
       "\t Stature        & 0\\\\\n",
       "\t Sitting.Height & 0\\\\\n",
       "\t SHS            & 0\\\\\n",
       "\t BMI            & 0\\\\\n",
       "\t L11            & 0\\\\\n",
       "\t H17            & 0\\\\\n",
       "\t Weight         & 0\\\\\n",
       "\t SeatX          & 0\\\\\n",
       "\\end{tabular}\n"
      ],
      "text/markdown": [
       "\n",
       "A data.frame: 8 × 2\n",
       "\n",
       "| Features &lt;fct&gt; | missing.values.counte &lt;int&gt; |\n",
       "|---|---|\n",
       "| Stature        | 0 |\n",
       "| Sitting.Height | 0 |\n",
       "| SHS            | 0 |\n",
       "| BMI            | 0 |\n",
       "| L11            | 0 |\n",
       "| H17            | 0 |\n",
       "| Weight         | 0 |\n",
       "| SeatX          | 0 |\n",
       "\n"
      ],
      "text/plain": [
       "  Features       missing.values.counte\n",
       "1 Stature        0                    \n",
       "2 Sitting.Height 0                    \n",
       "3 SHS            0                    \n",
       "4 BMI            0                    \n",
       "5 L11            0                    \n",
       "6 H17            0                    \n",
       "7 Weight         0                    \n",
       "8 SeatX          0                    "
      ]
     },
     "metadata": {},
     "output_type": "display_data"
    }
   ],
   "source": [
    "data.frame('Features'=c(colnames(df)), 'missing values counte'=sapply(df, function(x) sum(is.na(x))),row.names=NULL)"
   ]
  },
  {
   "cell_type": "markdown",
   "metadata": {},
   "source": [
    "### Fit a full model"
   ]
  },
  {
   "cell_type": "code",
   "execution_count": 3,
   "metadata": {},
   "outputs": [],
   "source": [
    "fullmodel<- lm(SeatX~Stature+Sitting.Height+SHS+BMI+Weight+L11+H17, data=df)"
   ]
  },
  {
   "cell_type": "code",
   "execution_count": 9,
   "metadata": {},
   "outputs": [
    {
     "data": {
      "text/plain": [
       "\n",
       "Call:\n",
       "lm(formula = SeatX ~ Stature + Sitting.Height + SHS + BMI + Weight + \n",
       "    L11 + H17, data = df)\n",
       "\n",
       "Residuals:\n",
       "    Min      1Q  Median      3Q     Max \n",
       "-94.066 -28.197  -2.127  30.088 171.633 \n",
       "\n",
       "Coefficients:\n",
       "                 Estimate Std. Error t value Pr(>|t|)    \n",
       "(Intercept)     156.89279  593.21867   0.264    0.792    \n",
       "Stature           0.68581    0.34108   2.011    0.045 *  \n",
       "Sitting.Height   -0.71338    0.68193  -1.046    0.296    \n",
       "SHS             367.19218 1176.55698   0.312    0.755    \n",
       "BMI              30.46917    5.34567   5.700 2.37e-08 ***\n",
       "Weight           -0.08173    1.79912  -0.045    0.964    \n",
       "L11               0.53616    0.03312  16.189  < 2e-16 ***\n",
       "H17              -1.51162    0.04981 -30.349  < 2e-16 ***\n",
       "---\n",
       "Signif. codes:  0 '***' 0.001 '**' 0.01 '*' 0.05 '.' 0.1 ' ' 1\n",
       "\n",
       "Residual standard error: 41.33 on 391 degrees of freedom\n",
       "Multiple R-squared:  0.9372,\tAdjusted R-squared:  0.9361 \n",
       "F-statistic: 833.7 on 7 and 391 DF,  p-value: < 2.2e-16\n"
      ]
     },
     "metadata": {},
     "output_type": "display_data"
    }
   ],
   "source": [
    "summary(fullmodel)"
   ]
  },
  {
   "cell_type": "markdown",
   "metadata": {},
   "source": [
    "### Fit a reduced model"
   ]
  },
  {
   "cell_type": "code",
   "execution_count": 10,
   "metadata": {},
   "outputs": [],
   "source": [
    "reducemodel = lm(SeatX~1, data=df)"
   ]
  },
  {
   "cell_type": "code",
   "execution_count": 11,
   "metadata": {},
   "outputs": [
    {
     "data": {
      "text/plain": [
       "\n",
       "Call:\n",
       "lm(formula = SeatX ~ 1, data = df)\n",
       "\n",
       "Residuals:\n",
       "    Min      1Q  Median      3Q     Max \n",
       "-498.05 -116.13   -5.26  111.12  529.74 \n",
       "\n",
       "Coefficients:\n",
       "            Estimate Std. Error t value Pr(>|t|)    \n",
       "(Intercept)  734.189      8.183   89.72   <2e-16 ***\n",
       "---\n",
       "Signif. codes:  0 '***' 0.001 '**' 0.01 '*' 0.05 '.' 0.1 ' ' 1\n",
       "\n",
       "Residual standard error: 163.5 on 398 degrees of freedom\n"
      ]
     },
     "metadata": {},
     "output_type": "display_data"
    }
   ],
   "source": [
    "summary(reducemodel)"
   ]
  },
  {
   "cell_type": "markdown",
   "metadata": {},
   "source": [
    "### Compare the models"
   ]
  },
  {
   "cell_type": "code",
   "execution_count": 12,
   "metadata": {},
   "outputs": [
    {
     "data": {
      "text/html": [
       "<table>\n",
       "<caption>A anova: 2 × 6</caption>\n",
       "<thead>\n",
       "\t<tr><th></th><th scope=col>Res.Df</th><th scope=col>RSS</th><th scope=col>Df</th><th scope=col>Sum of Sq</th><th scope=col>F</th><th scope=col>Pr(&gt;F)</th></tr>\n",
       "\t<tr><th></th><th scope=col>&lt;dbl&gt;</th><th scope=col>&lt;dbl&gt;</th><th scope=col>&lt;dbl&gt;</th><th scope=col>&lt;dbl&gt;</th><th scope=col>&lt;dbl&gt;</th><th scope=col>&lt;dbl&gt;</th></tr>\n",
       "</thead>\n",
       "<tbody>\n",
       "\t<tr><th scope=row>1</th><td>398</td><td>10634166.2</td><td>NA</td><td>     NA</td><td>      NA</td><td>           NA</td></tr>\n",
       "\t<tr><th scope=row>2</th><td>391</td><td>  667750.9</td><td> 7</td><td>9966415</td><td>833.6873</td><td>1.372562e-230</td></tr>\n",
       "</tbody>\n",
       "</table>\n"
      ],
      "text/latex": [
       "A anova: 2 × 6\n",
       "\\begin{tabular}{r|llllll}\n",
       "  & Res.Df & RSS & Df & Sum of Sq & F & Pr(>F)\\\\\n",
       "  & <dbl> & <dbl> & <dbl> & <dbl> & <dbl> & <dbl>\\\\\n",
       "\\hline\n",
       "\t1 & 398 & 10634166.2 & NA &      NA &       NA &            NA\\\\\n",
       "\t2 & 391 &   667750.9 &  7 & 9966415 & 833.6873 & 1.372562e-230\\\\\n",
       "\\end{tabular}\n"
      ],
      "text/markdown": [
       "\n",
       "A anova: 2 × 6\n",
       "\n",
       "| <!--/--> | Res.Df &lt;dbl&gt; | RSS &lt;dbl&gt; | Df &lt;dbl&gt; | Sum of Sq &lt;dbl&gt; | F &lt;dbl&gt; | Pr(&gt;F) &lt;dbl&gt; |\n",
       "|---|---|---|---|---|---|---|\n",
       "| 1 | 398 | 10634166.2 | NA |      NA |       NA |            NA |\n",
       "| 2 | 391 |   667750.9 |  7 | 9966415 | 833.6873 | 1.372562e-230 |\n",
       "\n"
      ],
      "text/plain": [
       "  Res.Df RSS        Df Sum of Sq F        Pr(>F)       \n",
       "1 398    10634166.2 NA      NA         NA            NA\n",
       "2 391      667750.9  7 9966415   833.6873 1.372562e-230"
      ]
     },
     "metadata": {},
     "output_type": "display_data"
    }
   ],
   "source": [
    " anova(reducemodel, fullmodel)"
   ]
  },
  {
   "cell_type": "markdown",
   "metadata": {},
   "source": [
    "### Indivitual parameter tests"
   ]
  },
  {
   "cell_type": "markdown",
   "metadata": {},
   "source": [
    "#### calculat the p_value directly"
   ]
  },
  {
   "cell_type": "code",
   "execution_count": 16,
   "metadata": {},
   "outputs": [
    {
     "data": {
      "text/html": [
       "0.0450431864814389"
      ],
      "text/latex": [
       "0.0450431864814389"
      ],
      "text/markdown": [
       "0.0450431864814389"
      ],
      "text/plain": [
       "[1] 0.04504319"
      ]
     },
     "metadata": {},
     "output_type": "display_data"
    }
   ],
   "source": [
    "2*(1-pt(summary(fullmodel)$coef[2, 1]/summary(fullmodel)$coef[2, 2], 399-8))"
   ]
  },
  {
   "cell_type": "markdown",
   "metadata": {},
   "source": [
    "#### multicolinearty"
   ]
  },
  {
   "cell_type": "code",
   "execution_count": 49,
   "metadata": {},
   "outputs": [],
   "source": [
    "library(faraway)"
   ]
  },
  {
   "cell_type": "code",
   "execution_count": 53,
   "metadata": {},
   "outputs": [],
   "source": [
    "fullmodel <- lm(SeatX~Stature+Sitting.Height+SHS+BMI+Weight+L11+H17, data=df)"
   ]
  },
  {
   "cell_type": "code",
   "execution_count": 55,
   "metadata": {},
   "outputs": [
    {
     "data": {
      "text/plain": [
       "\n",
       "Call:\n",
       "lm(formula = SeatX ~ Stature + Sitting.Height + SHS + BMI + Weight + \n",
       "    L11 + H17, data = df)\n",
       "\n",
       "Residuals:\n",
       "    Min      1Q  Median      3Q     Max \n",
       "-94.066 -28.197  -2.127  30.088 171.633 \n",
       "\n",
       "Coefficients:\n",
       "                 Estimate Std. Error t value Pr(>|t|)    \n",
       "(Intercept)     156.89279  593.21867   0.264    0.792    \n",
       "Stature           0.68581    0.34108   2.011    0.045 *  \n",
       "Sitting.Height   -0.71338    0.68193  -1.046    0.296    \n",
       "SHS             367.19218 1176.55698   0.312    0.755    \n",
       "BMI              30.46917    5.34567   5.700 2.37e-08 ***\n",
       "Weight           -0.08173    1.79912  -0.045    0.964    \n",
       "L11               0.53616    0.03312  16.189  < 2e-16 ***\n",
       "H17              -1.51162    0.04981 -30.349  < 2e-16 ***\n",
       "---\n",
       "Signif. codes:  0 '***' 0.001 '**' 0.01 '*' 0.05 '.' 0.1 ' ' 1\n",
       "\n",
       "Residual standard error: 41.33 on 391 degrees of freedom\n",
       "Multiple R-squared:  0.9372,\tAdjusted R-squared:  0.9361 \n",
       "F-statistic: 833.7 on 7 and 391 DF,  p-value: < 2.2e-16\n"
      ]
     },
     "metadata": {},
     "output_type": "display_data"
    }
   ],
   "source": [
    "summary(fullmodel)"
   ]
  },
  {
   "cell_type": "code",
   "execution_count": 54,
   "metadata": {},
   "outputs": [
    {
     "data": {
      "text/html": [
       "<style>\n",
       ".dl-inline {width: auto; margin:0; padding: 0}\n",
       ".dl-inline>dt, .dl-inline>dd {float: none; width: auto; display: inline-block}\n",
       ".dl-inline>dt::after {content: \":\\0020\"; padding-right: .5ex}\n",
       ".dl-inline>dt:not(:first-of-type) {padding-left: .5ex}\n",
       "</style><dl class=dl-inline><dt>Stature</dt><dd>155.107273964074</dd><dt>Sitting.Height</dt><dd>214.318355335685</dd><dt>SHS</dt><dd>379.445594988617</dd><dt>BMI</dt><dd>161.060941310289</dd><dt>Weight</dt><dd>133.045459675788</dd><dt>L11</dt><dd>1.00782751491935</dd><dt>H17</dt><dd>1.01302234861414</dd></dl>\n"
      ],
      "text/latex": [
       "\\begin{description*}\n",
       "\\item[Stature] 155.107273964074\n",
       "\\item[Sitting.Height] 214.318355335685\n",
       "\\item[SHS] 379.445594988617\n",
       "\\item[BMI] 161.060941310289\n",
       "\\item[Weight] 133.045459675788\n",
       "\\item[L11] 1.00782751491935\n",
       "\\item[H17] 1.01302234861414\n",
       "\\end{description*}\n"
      ],
      "text/markdown": [
       "Stature\n",
       ":   155.107273964074Sitting.Height\n",
       ":   214.318355335685SHS\n",
       ":   379.445594988617BMI\n",
       ":   161.060941310289Weight\n",
       ":   133.045459675788L11\n",
       ":   1.00782751491935H17\n",
       ":   1.01302234861414\n",
       "\n"
      ],
      "text/plain": [
       "       Stature Sitting.Height            SHS            BMI         Weight \n",
       "    155.107274     214.318355     379.445595     161.060941     133.045460 \n",
       "           L11            H17 \n",
       "      1.007828       1.013022 "
      ]
     },
     "metadata": {},
     "output_type": "display_data"
    }
   ],
   "source": [
    "vif(fullmodel)"
   ]
  },
  {
   "cell_type": "markdown",
   "metadata": {},
   "source": [
    "#### remove SHS or sitting.Height"
   ]
  },
  {
   "cell_type": "code",
   "execution_count": 4,
   "metadata": {},
   "outputs": [],
   "source": [
    "mf <- lm(SeatX~Stature+SHS+BMI+Weight+L11+H17, data=df)"
   ]
  },
  {
   "cell_type": "code",
   "execution_count": 58,
   "metadata": {},
   "outputs": [
    {
     "data": {
      "text/plain": [
       "\n",
       "Call:\n",
       "lm(formula = SeatX ~ Stature + SHS + BMI + Weight + L11 + H17, \n",
       "    data = df)\n",
       "\n",
       "Residuals:\n",
       "    Min      1Q  Median      3Q     Max \n",
       "-93.945 -28.411  -1.872  30.252 170.897 \n",
       "\n",
       "Coefficients:\n",
       "              Estimate Std. Error t value Pr(>|t|)    \n",
       "(Intercept)  698.72478  289.25110   2.416   0.0162 *  \n",
       "Stature        0.37057    0.15981   2.319   0.0209 *  \n",
       "SHS         -860.71269   81.06422 -10.618  < 2e-16 ***\n",
       "BMI           32.18758    5.08764   6.327 6.85e-10 ***\n",
       "Weight        -0.65812    1.71288  -0.384   0.7010    \n",
       "L11            0.53661    0.03312  16.202  < 2e-16 ***\n",
       "H17           -1.50941    0.04977 -30.328  < 2e-16 ***\n",
       "---\n",
       "Signif. codes:  0 '***' 0.001 '**' 0.01 '*' 0.05 '.' 0.1 ' ' 1\n",
       "\n",
       "Residual standard error: 41.33 on 392 degrees of freedom\n",
       "Multiple R-squared:  0.937,\tAdjusted R-squared:  0.9361 \n",
       "F-statistic: 972.2 on 6 and 392 DF,  p-value: < 2.2e-16\n"
      ]
     },
     "metadata": {},
     "output_type": "display_data"
    }
   ],
   "source": [
    "summary(mf)"
   ]
  },
  {
   "cell_type": "code",
   "execution_count": 57,
   "metadata": {},
   "outputs": [
    {
     "data": {
      "text/html": [
       "<style>\n",
       ".dl-inline {width: auto; margin:0; padding: 0}\n",
       ".dl-inline>dt, .dl-inline>dd {float: none; width: auto; display: inline-block}\n",
       ".dl-inline>dt::after {content: \":\\0020\"; padding-right: .5ex}\n",
       ".dl-inline>dt:not(:first-of-type) {padding-left: .5ex}\n",
       "</style><dl class=dl-inline><dt>Stature</dt><dd>34.0415943192585</dd><dt>SHS</dt><dd>1.80084941899592</dd><dt>BMI</dt><dd>145.853089183918</dd><dt>Weight</dt><dd>120.567551797524</dd><dt>L11</dt><dd>1.00765677208919</dd><dt>H17</dt><dd>1.01119097346288</dd></dl>\n"
      ],
      "text/latex": [
       "\\begin{description*}\n",
       "\\item[Stature] 34.0415943192585\n",
       "\\item[SHS] 1.80084941899592\n",
       "\\item[BMI] 145.853089183918\n",
       "\\item[Weight] 120.567551797524\n",
       "\\item[L11] 1.00765677208919\n",
       "\\item[H17] 1.01119097346288\n",
       "\\end{description*}\n"
      ],
      "text/markdown": [
       "Stature\n",
       ":   34.0415943192585SHS\n",
       ":   1.80084941899592BMI\n",
       ":   145.853089183918Weight\n",
       ":   120.567551797524L11\n",
       ":   1.00765677208919H17\n",
       ":   1.01119097346288\n",
       "\n"
      ],
      "text/plain": [
       "   Stature        SHS        BMI     Weight        L11        H17 \n",
       " 34.041594   1.800849 145.853089 120.567552   1.007657   1.011191 "
      ]
     },
     "metadata": {},
     "output_type": "display_data"
    }
   ],
   "source": [
    "vif(mf)"
   ]
  },
  {
   "cell_type": "markdown",
   "metadata": {},
   "source": [
    "#### remove BMI or Weight\n"
   ]
  },
  {
   "cell_type": "code",
   "execution_count": 60,
   "metadata": {},
   "outputs": [],
   "source": [
    "mf1 <- lm(SeatX~Stature+SHS+BMI+L11+H17, data=df)"
   ]
  },
  {
   "cell_type": "code",
   "execution_count": 61,
   "metadata": {},
   "outputs": [
    {
     "data": {
      "text/plain": [
       "\n",
       "Call:\n",
       "lm(formula = SeatX ~ Stature + SHS + BMI + L11 + H17, data = df)\n",
       "\n",
       "Residuals:\n",
       "    Min      1Q  Median      3Q     Max \n",
       "-94.598 -28.081  -2.251  29.928 170.312 \n",
       "\n",
       "Coefficients:\n",
       "              Estimate Std. Error t value Pr(>|t|)    \n",
       "(Intercept)  802.48280  103.51358   7.752 7.80e-14 ***\n",
       "Stature        0.31097    0.03836   8.107 6.68e-15 ***\n",
       "SHS         -862.06556   80.89983 -10.656  < 2e-16 ***\n",
       "BMI           30.24101    0.46472  65.073  < 2e-16 ***\n",
       "L11            0.53685    0.03308  16.230  < 2e-16 ***\n",
       "H17           -1.50987    0.04970 -30.379  < 2e-16 ***\n",
       "---\n",
       "Signif. codes:  0 '***' 0.001 '**' 0.01 '*' 0.05 '.' 0.1 ' ' 1\n",
       "\n",
       "Residual standard error: 41.29 on 393 degrees of freedom\n",
       "Multiple R-squared:  0.937,\tAdjusted R-squared:  0.9362 \n",
       "F-statistic:  1169 on 5 and 393 DF,  p-value: < 2.2e-16\n"
      ]
     },
     "metadata": {},
     "output_type": "display_data"
    }
   ],
   "source": [
    "summary(mf1)"
   ]
  },
  {
   "cell_type": "code",
   "execution_count": 63,
   "metadata": {},
   "outputs": [
    {
     "data": {
      "text/html": [
       "<style>\n",
       ".dl-inline {width: auto; margin:0; padding: 0}\n",
       ".dl-inline>dt, .dl-inline>dd {float: none; width: auto; display: inline-block}\n",
       ".dl-inline>dt::after {content: \":\\0020\"; padding-right: .5ex}\n",
       ".dl-inline>dt:not(:first-of-type) {padding-left: .5ex}\n",
       "</style><dl class=dl-inline><dt>Stature</dt><dd>1.96577617491787</dd><dt>SHS</dt><dd>1.7974517816701</dd><dt>BMI</dt><dd>1.21958973470811</dd><dt>L11</dt><dd>1.00729547480971</dd><dt>H17</dt><dd>1.01058976967393</dd></dl>\n"
      ],
      "text/latex": [
       "\\begin{description*}\n",
       "\\item[Stature] 1.96577617491787\n",
       "\\item[SHS] 1.7974517816701\n",
       "\\item[BMI] 1.21958973470811\n",
       "\\item[L11] 1.00729547480971\n",
       "\\item[H17] 1.01058976967393\n",
       "\\end{description*}\n"
      ],
      "text/markdown": [
       "Stature\n",
       ":   1.96577617491787SHS\n",
       ":   1.7974517816701BMI\n",
       ":   1.21958973470811L11\n",
       ":   1.00729547480971H17\n",
       ":   1.01058976967393\n",
       "\n"
      ],
      "text/plain": [
       " Stature      SHS      BMI      L11      H17 \n",
       "1.965776 1.797452 1.219590 1.007295 1.010590 "
      ]
     },
     "metadata": {},
     "output_type": "display_data"
    }
   ],
   "source": [
    "vif(mf1)"
   ]
  },
  {
   "cell_type": "code",
   "execution_count": 93,
   "metadata": {},
   "outputs": [
    {
     "data": {
      "image/png": "[encoded data removed]",
      "text/plain": [
       "plot without title"
      ]
     },
     "metadata": {
      "image/png": {
       "height": 420,
       "width": 420
      }
     },
     "output_type": "display_data"
    }
   ],
   "source": [
    "plot(mf1$fitted.values, mf1$residuals, xlab='Fitted values', ylab='Residuals')\n",
    "abline(h=mean(mf1$residuals), col='red')"
   ]
  },
  {
   "cell_type": "code",
   "execution_count": 95,
   "metadata": {},
   "outputs": [
    {
     "data": {
      "image/png": "[encoded data removed]",
      "text/plain": [
       "plot without title"
      ]
     },
     "metadata": {
      "image/png": {
       "height": 420,
       "width": 420
      }
     },
     "output_type": "display_data"
    }
   ],
   "source": [
    "plot(mf1$fitted.values, abs(mf1$residuals), xlab='Fitted values', ylab='|Residuals|')\n",
    "abline(h=mean(mf1$residuals), col='red')"
   ]
  },
  {
   "cell_type": "code",
   "execution_count": 96,
   "metadata": {},
   "outputs": [
    {
     "data": {
      "text/plain": [
       "\n",
       "Call:\n",
       "lm(formula = abs(mf1$residual) ~ mf1$fitted)\n",
       "\n",
       "Residuals:\n",
       "   Min     1Q Median     3Q    Max \n",
       "-35.26 -17.93  -2.86  11.01 133.43 \n",
       "\n",
       "Coefficients:\n",
       "            Estimate Std. Error t value Pr(>|t|)    \n",
       "(Intercept) 22.78767    5.66983   4.019 6.99e-05 ***\n",
       "mf1$fitted   0.01431    0.00755   1.896   0.0587 .  \n",
       "---\n",
       "Signif. codes:  0 '***' 0.001 '**' 0.01 '*' 0.05 '.' 0.1 ' ' 1\n",
       "\n",
       "Residual standard error: 23.83 on 397 degrees of freedom\n",
       "Multiple R-squared:  0.008973,\tAdjusted R-squared:  0.006477 \n",
       "F-statistic: 3.595 on 1 and 397 DF,  p-value: 0.05869\n"
      ]
     },
     "metadata": {},
     "output_type": "display_data"
    }
   ],
   "source": [
    "summary(lm(abs(mf1$residual) ~ mf1$fitted ))"
   ]
  },
  {
   "cell_type": "code",
   "execution_count": 72,
   "metadata": {},
   "outputs": [],
   "source": [
    "library(nortest)"
   ]
  },
  {
   "cell_type": "code",
   "execution_count": 97,
   "metadata": {},
   "outputs": [
    {
     "data": {
      "image/png": "[encoded data removed]",
      "text/plain": [
       "Plot with title \"Histogram of mf1$residuals\""
      ]
     },
     "metadata": {
      "image/png": {
       "height": 420,
       "width": 420
      }
     },
     "output_type": "display_data"
    }
   ],
   "source": [
    "hist(mf1$residuals)\n",
    "abline(v=mean(mf1$residuals), col='red')\n",
    "abline(v=median(mf1$residuals), col='blue')"
   ]
  },
  {
   "cell_type": "code",
   "execution_count": 98,
   "metadata": {},
   "outputs": [
    {
     "data": {
      "image/png": "[encoded data removed]",
      "text/plain": [
       "Plot with title \"Normal Q-Q Plot\""
      ]
     },
     "metadata": {
      "image/png": {
       "height": 420,
       "width": 420
      }
     },
     "output_type": "display_data"
    }
   ],
   "source": [
    "qqnorm(mf1$residuals)"
   ]
  },
  {
   "cell_type": "markdown",
   "metadata": {},
   "source": [
    "#### Checking Normality _ Anderson-Darling test"
   ]
  },
  {
   "cell_type": "code",
   "execution_count": 99,
   "metadata": {},
   "outputs": [
    {
     "data": {
      "text/plain": [
       "\n",
       "\tAnderson-Darling normality test\n",
       "\n",
       "data:  mf1$residual\n",
       "A = 0.75452, p-value = 0.04922\n"
      ]
     },
     "metadata": {},
     "output_type": "display_data"
    }
   ],
   "source": [
    "ad.test(mf1$residual)"
   ]
  },
  {
   "cell_type": "code",
   "execution_count": 100,
   "metadata": {},
   "outputs": [
    {
     "ename": "ERROR",
     "evalue": "Error in as.ts(x): object 'm1f' not found\n",
     "output_type": "error",
     "traceback": [
      "Error in as.ts(x): object 'm1f' not found\nTraceback:\n",
      "1. acf(m1f$residuals)",
      "2. na.action(as.ts(x))",
      "3. as.ts(x)"
     ]
    }
   ],
   "source": [
    "acf(m1f$residuals)"
   ]
  },
  {
   "cell_type": "code",
   "execution_count": 81,
   "metadata": {},
   "outputs": [
    {
     "data": {
      "image/png": "[encoded data removed]",
      "text/plain": [
       "plot without title"
      ]
     },
     "metadata": {
      "image/png": {
       "height": 420,
       "width": 420
      }
     },
     "output_type": "display_data"
    }
   ],
   "source": [
    "plot(mf$residuals[1:399], xlab='i', ylab='e(i)', type='l')\n"
   ]
  },
  {
   "cell_type": "code",
   "execution_count": 101,
   "metadata": {},
   "outputs": [],
   "source": [
    "m = influence(mf1)"
   ]
  },
  {
   "cell_type": "code",
   "execution_count": 102,
   "metadata": {},
   "outputs": [
    {
     "data": {
      "text/html": [
       "<style>\n",
       ".list-inline {list-style: none; margin:0; padding: 0}\n",
       ".list-inline>li {display: inline-block}\n",
       ".list-inline>li:not(:last-child)::after {content: \"\\00b7\"; padding: 0 .5ex}\n",
       "</style>\n",
       "<ol class=list-inline><li>'hat'</li><li>'coefficients'</li><li>'sigma'</li><li>'wt.res'</li></ol>\n"
      ],
      "text/latex": [
       "\\begin{enumerate*}\n",
       "\\item 'hat'\n",
       "\\item 'coefficients'\n",
       "\\item 'sigma'\n",
       "\\item 'wt.res'\n",
       "\\end{enumerate*}\n"
      ],
      "text/markdown": [
       "1. 'hat'\n",
       "2. 'coefficients'\n",
       "3. 'sigma'\n",
       "4. 'wt.res'\n",
       "\n",
       "\n"
      ],
      "text/plain": [
       "[1] \"hat\"          \"coefficients\" \"sigma\"        \"wt.res\"      "
      ]
     },
     "metadata": {},
     "output_type": "display_data"
    }
   ],
   "source": [
    "names(m)"
   ]
  },
  {
   "cell_type": "code",
   "execution_count": 103,
   "metadata": {},
   "outputs": [],
   "source": [
    "h = influence(mf1)$hat"
   ]
  },
  {
   "cell_type": "code",
   "execution_count": 104,
   "metadata": {},
   "outputs": [
    {
     "data": {
      "text/html": [
       "399"
      ],
      "text/latex": [
       "399"
      ],
      "text/markdown": [
       "399"
      ],
      "text/plain": [
       "[1] 399"
      ]
     },
     "metadata": {},
     "output_type": "display_data"
    }
   ],
   "source": [
    "length(influence(mf1)$hat)"
   ]
  },
  {
   "cell_type": "code",
   "execution_count": 105,
   "metadata": {},
   "outputs": [
    {
     "data": {
      "text/plain": [
       "\n",
       "Call:\n",
       "lm(formula = SeatX ~ Stature + SHS + BMI + L11 + H17, data = df)\n",
       "\n",
       "Residuals:\n",
       "    Min      1Q  Median      3Q     Max \n",
       "-94.598 -28.081  -2.251  29.928 170.312 \n",
       "\n",
       "Coefficients:\n",
       "              Estimate Std. Error t value Pr(>|t|)    \n",
       "(Intercept)  802.48280  103.51358   7.752 7.80e-14 ***\n",
       "Stature        0.31097    0.03836   8.107 6.68e-15 ***\n",
       "SHS         -862.06556   80.89983 -10.656  < 2e-16 ***\n",
       "BMI           30.24101    0.46472  65.073  < 2e-16 ***\n",
       "L11            0.53685    0.03308  16.230  < 2e-16 ***\n",
       "H17           -1.50987    0.04970 -30.379  < 2e-16 ***\n",
       "---\n",
       "Signif. codes:  0 '***' 0.001 '**' 0.01 '*' 0.05 '.' 0.1 ' ' 1\n",
       "\n",
       "Residual standard error: 41.29 on 393 degrees of freedom\n",
       "Multiple R-squared:  0.937,\tAdjusted R-squared:  0.9362 \n",
       "F-statistic:  1169 on 5 and 393 DF,  p-value: < 2.2e-16\n"
      ]
     },
     "metadata": {},
     "output_type": "display_data"
    }
   ],
   "source": [
    "summary(mf1)"
   ]
  },
  {
   "cell_type": "code",
   "execution_count": 91,
   "metadata": {},
   "outputs": [
    {
     "data": {
      "text/html": [
       "<style>\n",
       ".dl-inline {width: auto; margin:0; padding: 0}\n",
       ".dl-inline>dt, .dl-inline>dd {float: none; width: auto; display: inline-block}\n",
       ".dl-inline>dt::after {content: \":\\0020\"; padding-right: .5ex}\n",
       ".dl-inline>dt:not(:first-of-type) {padding-left: .5ex}\n",
       "</style><dl class=dl-inline><dt>239</dt><dd>239</dd><dt>320</dt><dd>320</dd></dl>\n"
      ],
      "text/latex": [
       "\\begin{description*}\n",
       "\\item[239] 239\n",
       "\\item[320] 320\n",
       "\\end{description*}\n"
      ],
      "text/markdown": [
       "239\n",
       ":   239320\n",
       ":   320\n",
       "\n"
      ],
      "text/plain": [
       "239 320 \n",
       "239 320 "
      ]
     },
     "metadata": {},
     "output_type": "display_data"
    }
   ],
   "source": [
    "which(h>(3*6)/399)"
   ]
  },
  {
   "cell_type": "code",
   "execution_count": 92,
   "metadata": {},
   "outputs": [
    {
     "data": {
      "image/png": "[encoded data removed]",
      "text/plain": [
       "plot without title"
      ]
     },
     "metadata": {
      "image/png": {
       "height": 420,
       "width": 420
      }
     },
     "output_type": "display_data"
    }
   ],
   "source": [
    "halfnorm(h, nlab=2, ylab='leverage')"
   ]
  },
  {
   "cell_type": "code",
   "execution_count": 106,
   "metadata": {},
   "outputs": [
    {
     "data": {
      "text/html": [
       "<table>\n",
       "<caption>A data.frame: 1 × 8</caption>\n",
       "<thead>\n",
       "\t<tr><th></th><th scope=col>Stature</th><th scope=col>Sitting.Height</th><th scope=col>SHS</th><th scope=col>BMI</th><th scope=col>L11</th><th scope=col>H17</th><th scope=col>Weight</th><th scope=col>SeatX</th></tr>\n",
       "\t<tr><th></th><th scope=col>&lt;int&gt;</th><th scope=col>&lt;int&gt;</th><th scope=col>&lt;dbl&gt;</th><th scope=col>&lt;dbl&gt;</th><th scope=col>&lt;int&gt;</th><th scope=col>&lt;int&gt;</th><th scope=col>&lt;dbl&gt;</th><th scope=col>&lt;dbl&gt;</th></tr>\n",
       "</thead>\n",
       "<tbody>\n",
       "\t<tr><th scope=row>320</th><td>1513</td><td>948</td><td>0.6265697</td><td>23.37093</td><td>-55</td><td>685</td><td>53.5</td><td>364.0866</td></tr>\n",
       "</tbody>\n",
       "</table>\n"
      ],
      "text/latex": [
       "A data.frame: 1 × 8\n",
       "\\begin{tabular}{r|llllllll}\n",
       "  & Stature & Sitting.Height & SHS & BMI & L11 & H17 & Weight & SeatX\\\\\n",
       "  & <int> & <int> & <dbl> & <dbl> & <int> & <int> & <dbl> & <dbl>\\\\\n",
       "\\hline\n",
       "\t320 & 1513 & 948 & 0.6265697 & 23.37093 & -55 & 685 & 53.5 & 364.0866\\\\\n",
       "\\end{tabular}\n"
      ],
      "text/markdown": [
       "\n",
       "A data.frame: 1 × 8\n",
       "\n",
       "| <!--/--> | Stature &lt;int&gt; | Sitting.Height &lt;int&gt; | SHS &lt;dbl&gt; | BMI &lt;dbl&gt; | L11 &lt;int&gt; | H17 &lt;int&gt; | Weight &lt;dbl&gt; | SeatX &lt;dbl&gt; |\n",
       "|---|---|---|---|---|---|---|---|---|\n",
       "| 320 | 1513 | 948 | 0.6265697 | 23.37093 | -55 | 685 | 53.5 | 364.0866 |\n",
       "\n"
      ],
      "text/plain": [
       "    Stature Sitting.Height SHS       BMI      L11 H17 Weight SeatX   \n",
       "320 1513    948            0.6265697 23.37093 -55 685 53.5   364.0866"
      ]
     },
     "metadata": {},
     "output_type": "display_data"
    }
   ],
   "source": [
    "df[320,]"
   ]
  },
  {
   "cell_type": "code",
   "execution_count": 108,
   "metadata": {},
   "outputs": [
    {
     "data": {
      "text/html": [
       "<table>\n",
       "<caption>A data.frame: 1 × 8</caption>\n",
       "<thead>\n",
       "\t<tr><th></th><th scope=col>Stature</th><th scope=col>Sitting.Height</th><th scope=col>SHS</th><th scope=col>BMI</th><th scope=col>L11</th><th scope=col>H17</th><th scope=col>Weight</th><th scope=col>SeatX</th></tr>\n",
       "\t<tr><th></th><th scope=col>&lt;int&gt;</th><th scope=col>&lt;int&gt;</th><th scope=col>&lt;dbl&gt;</th><th scope=col>&lt;dbl&gt;</th><th scope=col>&lt;int&gt;</th><th scope=col>&lt;int&gt;</th><th scope=col>&lt;dbl&gt;</th><th scope=col>&lt;dbl&gt;</th></tr>\n",
       "</thead>\n",
       "<tbody>\n",
       "\t<tr><th scope=row>239</th><td>1626</td><td>999</td><td>0.6143911</td><td>41.90817</td><td>95</td><td>685</td><td>110.8</td><td>1193.29</td></tr>\n",
       "</tbody>\n",
       "</table>\n"
      ],
      "text/latex": [
       "A data.frame: 1 × 8\n",
       "\\begin{tabular}{r|llllllll}\n",
       "  & Stature & Sitting.Height & SHS & BMI & L11 & H17 & Weight & SeatX\\\\\n",
       "  & <int> & <int> & <dbl> & <dbl> & <int> & <int> & <dbl> & <dbl>\\\\\n",
       "\\hline\n",
       "\t239 & 1626 & 999 & 0.6143911 & 41.90817 & 95 & 685 & 110.8 & 1193.29\\\\\n",
       "\\end{tabular}\n"
      ],
      "text/markdown": [
       "\n",
       "A data.frame: 1 × 8\n",
       "\n",
       "| <!--/--> | Stature &lt;int&gt; | Sitting.Height &lt;int&gt; | SHS &lt;dbl&gt; | BMI &lt;dbl&gt; | L11 &lt;int&gt; | H17 &lt;int&gt; | Weight &lt;dbl&gt; | SeatX &lt;dbl&gt; |\n",
       "|---|---|---|---|---|---|---|---|---|\n",
       "| 239 | 1626 | 999 | 0.6143911 | 41.90817 | 95 | 685 | 110.8 | 1193.29 |\n",
       "\n"
      ],
      "text/plain": [
       "    Stature Sitting.Height SHS       BMI      L11 H17 Weight SeatX  \n",
       "239 1626    999            0.6143911 41.90817 95  685 110.8  1193.29"
      ]
     },
     "metadata": {},
     "output_type": "display_data"
    }
   ],
   "source": [
    "df[239,]"
   ]
  },
  {
   "cell_type": "code",
   "execution_count": 113,
   "metadata": {},
   "outputs": [
    {
     "data": {
      "text/html": [
       "<style>\n",
       ".dl-inline {width: auto; margin:0; padding: 0}\n",
       ".dl-inline>dt, .dl-inline>dd {float: none; width: auto; display: inline-block}\n",
       ".dl-inline>dt::after {content: \":\\0020\"; padding-right: .5ex}\n",
       ".dl-inline>dt:not(:first-of-type) {padding-left: .5ex}\n",
       "</style><dl class=dl-inline><dt>Stature</dt><dd>1734.27819548872</dd><dt>Sitting.Height</dt><dd>902.498746867168</dd><dt>SHS</dt><dd>0.521374162130326</dd><dt>BMI</dt><dd>26.1609997158897</dd><dt>L11</dt><dd>19.4360902255639</dd><dt>H17</dt><dd>635.62656641604</dd><dt>Weight</dt><dd>78.2959899749373</dd><dt>SeatX</dt><dd>734.188687984461</dd></dl>\n"
      ],
      "text/latex": [
       "\\begin{description*}\n",
       "\\item[Stature] 1734.27819548872\n",
       "\\item[Sitting.Height] 902.498746867168\n",
       "\\item[SHS] 0.521374162130326\n",
       "\\item[BMI] 26.1609997158897\n",
       "\\item[L11] 19.4360902255639\n",
       "\\item[H17] 635.62656641604\n",
       "\\item[Weight] 78.2959899749373\n",
       "\\item[SeatX] 734.188687984461\n",
       "\\end{description*}\n"
      ],
      "text/markdown": [
       "Stature\n",
       ":   1734.27819548872Sitting.Height\n",
       ":   902.498746867168SHS\n",
       ":   0.521374162130326BMI\n",
       ":   26.1609997158897L11\n",
       ":   19.4360902255639H17\n",
       ":   635.62656641604Weight\n",
       ":   78.2959899749373SeatX\n",
       ":   734.188687984461\n",
       "\n"
      ],
      "text/plain": [
       "       Stature Sitting.Height            SHS            BMI            L11 \n",
       "  1734.2781955    902.4987469      0.5213742     26.1609997     19.4360902 \n",
       "           H17         Weight          SeatX \n",
       "   635.6265664     78.2959900    734.1886880 "
      ]
     },
     "metadata": {},
     "output_type": "display_data"
    }
   ],
   "source": [
    "colMeans(df)"
   ]
  },
  {
   "cell_type": "code",
   "execution_count": 114,
   "metadata": {},
   "outputs": [
    {
     "data": {
      "text/html": [
       "<table>\n",
       "<caption>A matrix: 8 × 8 of type dbl</caption>\n",
       "<thead>\n",
       "\t<tr><th></th><th scope=col>Stature</th><th scope=col>Sitting.Height</th><th scope=col>SHS</th><th scope=col>BMI</th><th scope=col>L11</th><th scope=col>H17</th><th scope=col>Weight</th><th scope=col>SeatX</th></tr>\n",
       "</thead>\n",
       "<tbody>\n",
       "\t<tr><th scope=row>Stature</th><td> 5721.100805</td><td>   -2.616485</td><td>-1.713388405</td><td>-155.96431610</td><td>-109.8929799</td><td> 1.503278e+02</td><td> 5.343705e+01</td><td>-1.746343e+03</td></tr>\n",
       "\t<tr><th scope=row>Sitting.Height</th><td>   -2.616485</td><td> 1977.607410</td><td> 1.142930142</td><td>   9.21162928</td><td>-168.3738240</td><td> 1.462948e+02</td><td> 3.070577e+01</td><td>-1.026164e+03</td></tr>\n",
       "\t<tr><th scope=row>SHS</th><td>   -1.713388</td><td>    1.142930</td><td> 0.001176192</td><td>   0.05223541</td><td>  -0.0624847</td><td> 4.249624e-02</td><td> 1.801971e-03</td><td>-6.482525e-02</td></tr>\n",
       "\t<tr><th scope=row>BMI</th><td> -155.964316</td><td>    9.211629</td><td> 0.052235415</td><td>  24.18473875</td><td>  15.2646920</td><td>-7.884485e+00</td><td> 5.750481e+01</td><td> 6.579398e+02</td></tr>\n",
       "\t<tr><th scope=row>L11</th><td> -109.892980</td><td> -168.373824</td><td>-0.062484702</td><td>  15.26469200</td><td>3942.8344731</td><td> 6.630899e+01</td><td> 3.367236e+01</td><td> 2.497913e+03</td></tr>\n",
       "\t<tr><th scope=row>H17</th><td>  150.327767</td><td>  146.294757</td><td> 0.042496236</td><td>  -7.88448451</td><td>  66.3089886</td><td> 1.752119e+03</td><td>-8.402004e+00</td><td>-2.838199e+03</td></tr>\n",
       "\t<tr><th scope=row>Weight</th><td>   53.437048</td><td>   30.705774</td><td> 0.001801971</td><td>  57.50480556</td><td>  33.6723561</td><td>-8.402004e+00</td><td> 1.763745e+02</td><td> 1.783868e+03</td></tr>\n",
       "\t<tr><th scope=row>SeatX</th><td>-1746.343301</td><td>-1026.164043</td><td>-0.064825249</td><td> 657.93979500</td><td>2497.9133684</td><td>-2.838199e+03</td><td> 1.783868e+03</td><td> 2.671901e+04</td></tr>\n",
       "</tbody>\n",
       "</table>\n"
      ],
      "text/latex": [
       "A matrix: 8 × 8 of type dbl\n",
       "\\begin{tabular}{r|llllllll}\n",
       "  & Stature & Sitting.Height & SHS & BMI & L11 & H17 & Weight & SeatX\\\\\n",
       "\\hline\n",
       "\tStature &  5721.100805 &    -2.616485 & -1.713388405 & -155.96431610 & -109.8929799 &  1.503278e+02 &  5.343705e+01 & -1.746343e+03\\\\\n",
       "\tSitting.Height &    -2.616485 &  1977.607410 &  1.142930142 &    9.21162928 & -168.3738240 &  1.462948e+02 &  3.070577e+01 & -1.026164e+03\\\\\n",
       "\tSHS &    -1.713388 &     1.142930 &  0.001176192 &    0.05223541 &   -0.0624847 &  4.249624e-02 &  1.801971e-03 & -6.482525e-02\\\\\n",
       "\tBMI &  -155.964316 &     9.211629 &  0.052235415 &   24.18473875 &   15.2646920 & -7.884485e+00 &  5.750481e+01 &  6.579398e+02\\\\\n",
       "\tL11 &  -109.892980 &  -168.373824 & -0.062484702 &   15.26469200 & 3942.8344731 &  6.630899e+01 &  3.367236e+01 &  2.497913e+03\\\\\n",
       "\tH17 &   150.327767 &   146.294757 &  0.042496236 &   -7.88448451 &   66.3089886 &  1.752119e+03 & -8.402004e+00 & -2.838199e+03\\\\\n",
       "\tWeight &    53.437048 &    30.705774 &  0.001801971 &   57.50480556 &   33.6723561 & -8.402004e+00 &  1.763745e+02 &  1.783868e+03\\\\\n",
       "\tSeatX & -1746.343301 & -1026.164043 & -0.064825249 &  657.93979500 & 2497.9133684 & -2.838199e+03 &  1.783868e+03 &  2.671901e+04\\\\\n",
       "\\end{tabular}\n"
      ],
      "text/markdown": [
       "\n",
       "A matrix: 8 × 8 of type dbl\n",
       "\n",
       "| <!--/--> | Stature | Sitting.Height | SHS | BMI | L11 | H17 | Weight | SeatX |\n",
       "|---|---|---|---|---|---|---|---|---|\n",
       "| Stature |  5721.100805 |    -2.616485 | -1.713388405 | -155.96431610 | -109.8929799 |  1.503278e+02 |  5.343705e+01 | -1.746343e+03 |\n",
       "| Sitting.Height |    -2.616485 |  1977.607410 |  1.142930142 |    9.21162928 | -168.3738240 |  1.462948e+02 |  3.070577e+01 | -1.026164e+03 |\n",
       "| SHS |    -1.713388 |     1.142930 |  0.001176192 |    0.05223541 |   -0.0624847 |  4.249624e-02 |  1.801971e-03 | -6.482525e-02 |\n",
       "| BMI |  -155.964316 |     9.211629 |  0.052235415 |   24.18473875 |   15.2646920 | -7.884485e+00 |  5.750481e+01 |  6.579398e+02 |\n",
       "| L11 |  -109.892980 |  -168.373824 | -0.062484702 |   15.26469200 | 3942.8344731 |  6.630899e+01 |  3.367236e+01 |  2.497913e+03 |\n",
       "| H17 |   150.327767 |   146.294757 |  0.042496236 |   -7.88448451 |   66.3089886 |  1.752119e+03 | -8.402004e+00 | -2.838199e+03 |\n",
       "| Weight |    53.437048 |    30.705774 |  0.001801971 |   57.50480556 |   33.6723561 | -8.402004e+00 |  1.763745e+02 |  1.783868e+03 |\n",
       "| SeatX | -1746.343301 | -1026.164043 | -0.064825249 |  657.93979500 | 2497.9133684 | -2.838199e+03 |  1.783868e+03 |  2.671901e+04 |\n",
       "\n"
      ],
      "text/plain": [
       "               Stature      Sitting.Height SHS          BMI          \n",
       "Stature         5721.100805    -2.616485   -1.713388405 -155.96431610\n",
       "Sitting.Height    -2.616485  1977.607410    1.142930142    9.21162928\n",
       "SHS               -1.713388     1.142930    0.001176192    0.05223541\n",
       "BMI             -155.964316     9.211629    0.052235415   24.18473875\n",
       "L11             -109.892980  -168.373824   -0.062484702   15.26469200\n",
       "H17              150.327767   146.294757    0.042496236   -7.88448451\n",
       "Weight            53.437048    30.705774    0.001801971   57.50480556\n",
       "SeatX          -1746.343301 -1026.164043   -0.064825249  657.93979500\n",
       "               L11          H17           Weight        SeatX        \n",
       "Stature        -109.8929799  1.503278e+02  5.343705e+01 -1.746343e+03\n",
       "Sitting.Height -168.3738240  1.462948e+02  3.070577e+01 -1.026164e+03\n",
       "SHS              -0.0624847  4.249624e-02  1.801971e-03 -6.482525e-02\n",
       "BMI              15.2646920 -7.884485e+00  5.750481e+01  6.579398e+02\n",
       "L11            3942.8344731  6.630899e+01  3.367236e+01  2.497913e+03\n",
       "H17              66.3089886  1.752119e+03 -8.402004e+00 -2.838199e+03\n",
       "Weight           33.6723561 -8.402004e+00  1.763745e+02  1.783868e+03\n",
       "SeatX          2497.9133684 -2.838199e+03  1.783868e+03  2.671901e+04"
      ]
     },
     "metadata": {},
     "output_type": "display_data"
    }
   ],
   "source": [
    "var(df)"
   ]
  },
  {
   "cell_type": "code",
   "execution_count": 115,
   "metadata": {},
   "outputs": [
    {
     "data": {
      "text/html": [
       "<style>\n",
       ".dl-inline {width: auto; margin:0; padding: 0}\n",
       ".dl-inline>dt, .dl-inline>dd {float: none; width: auto; display: inline-block}\n",
       ".dl-inline>dt::after {content: \":\\0020\"; padding-right: .5ex}\n",
       ".dl-inline>dt:not(:first-of-type) {padding-left: .5ex}\n",
       "</style><dl class=dl-inline><dt>Stature</dt><dd>5721.10080477576</dd><dt>Sitting.Height</dt><dd>1977.60741048601</dd><dt>SHS</dt><dd>0.00117619211239462</dd><dt>BMI</dt><dd>24.1847387487875</dd><dt>L11</dt><dd>3942.83447311747</dd><dt>H17</dt><dd>1752.1189909447</dd><dt>Weight</dt><dd>176.374506492362</dd><dt>SeatX</dt><dd>26719.010455953</dd></dl>\n"
      ],
      "text/latex": [
       "\\begin{description*}\n",
       "\\item[Stature] 5721.10080477576\n",
       "\\item[Sitting.Height] 1977.60741048601\n",
       "\\item[SHS] 0.00117619211239462\n",
       "\\item[BMI] 24.1847387487875\n",
       "\\item[L11] 3942.83447311747\n",
       "\\item[H17] 1752.1189909447\n",
       "\\item[Weight] 176.374506492362\n",
       "\\item[SeatX] 26719.010455953\n",
       "\\end{description*}\n"
      ],
      "text/markdown": [
       "Stature\n",
       ":   5721.10080477576Sitting.Height\n",
       ":   1977.60741048601SHS\n",
       ":   0.00117619211239462BMI\n",
       ":   24.1847387487875L11\n",
       ":   3942.83447311747H17\n",
       ":   1752.1189909447Weight\n",
       ":   176.374506492362SeatX\n",
       ":   26719.010455953\n",
       "\n"
      ],
      "text/plain": [
       "       Stature Sitting.Height            SHS            BMI            L11 \n",
       "  5.721101e+03   1.977607e+03   1.176192e-03   2.418474e+01   3.942834e+03 \n",
       "           H17         Weight          SeatX \n",
       "  1.752119e+03   1.763745e+02   2.671901e+04 "
      ]
     },
     "metadata": {},
     "output_type": "display_data"
    }
   ],
   "source": [
    "diag(var(df))"
   ]
  },
  {
   "cell_type": "code",
   "execution_count": 117,
   "metadata": {},
   "outputs": [
    {
     "data": {
      "text/html": [
       "<style>\n",
       ".dl-inline {width: auto; margin:0; padding: 0}\n",
       ".dl-inline>dt, .dl-inline>dd {float: none; width: auto; display: inline-block}\n",
       ".dl-inline>dt::after {content: \":\\0020\"; padding-right: .5ex}\n",
       ".dl-inline>dt:not(:first-of-type) {padding-left: .5ex}\n",
       "</style><dl class=dl-inline><dt>Stature</dt><dd>75.6379587560093</dd><dt>Sitting.Height</dt><dd>44.4702980705776</dd><dt>SHS</dt><dd>0.0342956573401738</dd><dt>BMI</dt><dd>4.91779816063932</dd><dt>L11</dt><dd>62.791993702362</dd><dt>H17</dt><dd>41.858320450595</dd><dt>Weight</dt><dd>13.280606405295</dd><dt>SeatX</dt><dd>163.459507083415</dd></dl>\n"
      ],
      "text/latex": [
       "\\begin{description*}\n",
       "\\item[Stature] 75.6379587560093\n",
       "\\item[Sitting.Height] 44.4702980705776\n",
       "\\item[SHS] 0.0342956573401738\n",
       "\\item[BMI] 4.91779816063932\n",
       "\\item[L11] 62.791993702362\n",
       "\\item[H17] 41.858320450595\n",
       "\\item[Weight] 13.280606405295\n",
       "\\item[SeatX] 163.459507083415\n",
       "\\end{description*}\n"
      ],
      "text/markdown": [
       "Stature\n",
       ":   75.6379587560093Sitting.Height\n",
       ":   44.4702980705776SHS\n",
       ":   0.0342956573401738BMI\n",
       ":   4.91779816063932L11\n",
       ":   62.791993702362H17\n",
       ":   41.858320450595Weight\n",
       ":   13.280606405295SeatX\n",
       ":   163.459507083415\n",
       "\n"
      ],
      "text/plain": [
       "       Stature Sitting.Height            SHS            BMI            L11 \n",
       "   75.63795876    44.47029807     0.03429566     4.91779816    62.79199370 \n",
       "           H17         Weight          SeatX \n",
       "   41.85832045    13.28060641   163.45950708 "
      ]
     },
     "metadata": {},
     "output_type": "display_data"
    }
   ],
   "source": [
    "sqrt(diag(var(df)))"
   ]
  },
  {
   "cell_type": "code",
   "execution_count": 119,
   "metadata": {},
   "outputs": [],
   "source": [
    "resi <- residuals(mf1) "
   ]
  },
  {
   "cell_type": "code",
   "execution_count": 121,
   "metadata": {},
   "outputs": [],
   "source": [
    "sigma <- summary(mf1)$sigma"
   ]
  },
  {
   "cell_type": "code",
   "execution_count": 122,
   "metadata": {},
   "outputs": [],
   "source": [
    "hi <- influence(mf1)$hat"
   ]
  },
  {
   "cell_type": "code",
   "execution_count": 123,
   "metadata": {},
   "outputs": [],
   "source": [
    "stud.resi <- resi/(sigma*sqrt(1-hi))"
   ]
  },
  {
   "cell_type": "code",
   "execution_count": 133,
   "metadata": {},
   "outputs": [
    {
     "data": {
      "image/png": "[encoded data removed]",
      "text/plain": [
       "plot without title"
      ]
     },
     "metadata": {
      "image/png": {
       "height": 420,
       "width": 420
      }
     },
     "output_type": "display_data"
    }
   ],
   "source": [
    "plot(stud.resi, fitted.values(mf1), ylab='fitted values', xlab= 'studentized residuals')\n",
    "points(stud.resi[320], fitted.values(mf1)[320], col='red')\n",
    "points(stud.resi[239], fitted.values(mf1)[239], col='green')"
   ]
  },
  {
   "cell_type": "code",
   "execution_count": 134,
   "metadata": {},
   "outputs": [
    {
     "data": {
      "text/html": [
       "<strong>264:</strong> 264"
      ],
      "text/latex": [
       "\\textbf{264:} 264"
      ],
      "text/markdown": [
       "**264:** 264"
      ],
      "text/plain": [
       "264 \n",
       "264 "
      ]
     },
     "metadata": {},
     "output_type": "display_data"
    }
   ],
   "source": [
    "which(stud.resi>4)"
   ]
  },
  {
   "cell_type": "code",
   "execution_count": 5,
   "metadata": {},
   "outputs": [],
   "source": [
    " ti <- rstudent(mf)"
   ]
  },
  {
   "cell_type": "code",
   "execution_count": 7,
   "metadata": {},
   "outputs": [
    {
     "data": {
      "text/html": [
       "399"
      ],
      "text/latex": [
       "399"
      ],
      "text/markdown": [
       "399"
      ],
      "text/plain": [
       "[1] 399"
      ]
     },
     "metadata": {},
     "output_type": "display_data"
    }
   ],
   "source": [
    "length(ti)"
   ]
  },
  {
   "cell_type": "code",
   "execution_count": 8,
   "metadata": {},
   "outputs": [
    {
     "data": {
      "text/html": [
       "4.26284131838913"
      ],
      "text/latex": [
       "4.26284131838913"
      ],
      "text/markdown": [
       "4.26284131838913"
      ],
      "text/plain": [
       "[1] 4.262841"
      ]
     },
     "metadata": {},
     "output_type": "display_data"
    }
   ],
   "source": [
    "max(ti)"
   ]
  },
  {
   "cell_type": "code",
   "execution_count": 9,
   "metadata": {},
   "outputs": [
    {
     "data": {
      "text/html": [
       "<strong>264:</strong> 264"
      ],
      "text/latex": [
       "\\textbf{264:} 264"
      ],
      "text/markdown": [
       "**264:** 264"
      ],
      "text/plain": [
       "264 \n",
       "264 "
      ]
     },
     "metadata": {},
     "output_type": "display_data"
    }
   ],
   "source": [
    "which.max(ti)"
   ]
  },
  {
   "cell_type": "code",
   "execution_count": 10,
   "metadata": {},
   "outputs": [
    {
     "data": {
      "text/html": [
       "2.53159087044708e-05"
      ],
      "text/latex": [
       "2.53159087044708e-05"
      ],
      "text/markdown": [
       "2.53159087044708e-05"
      ],
      "text/plain": [
       "[1] 2.531591e-05"
      ]
     },
     "metadata": {},
     "output_type": "display_data"
    }
   ],
   "source": [
    "2*(1-pt(max(abs(ti)), df=399-6-1))"
   ]
  },
  {
   "cell_type": "code",
   "execution_count": 11,
   "metadata": {},
   "outputs": [
    {
     "data": {
      "text/html": [
       "0.0012531328320802"
      ],
      "text/latex": [
       "0.0012531328320802"
      ],
      "text/markdown": [
       "0.0012531328320802"
      ],
      "text/plain": [
       "[1] 0.001253133"
      ]
     },
     "metadata": {},
     "output_type": "display_data"
    }
   ],
   "source": [
    "0.5/399"
   ]
  },
  {
   "cell_type": "code",
   "execution_count": 14,
   "metadata": {},
   "outputs": [
    {
     "data": {
      "text/html": [
       "<strong>250:</strong> 0.352459331441092"
      ],
      "text/latex": [
       "\\textbf{250:} 0.352459331441092"
      ],
      "text/markdown": [
       "**250:** 0.352459331441092"
      ],
      "text/plain": [
       "      250 \n",
       "0.3524593 "
      ]
     },
     "metadata": {},
     "output_type": "display_data"
    }
   ],
   "source": [
    "2*(1-pt(abs(ti[250]), df= 399-6-1))"
   ]
  },
  {
   "cell_type": "code",
   "execution_count": 15,
   "metadata": {},
   "outputs": [
    {
     "data": {
      "text/html": [
       "<strong>239:</strong> 0.00118857787542304"
      ],
      "text/latex": [
       "\\textbf{239:} 0.00118857787542304"
      ],
      "text/markdown": [
       "**239:** 0.00118857787542304"
      ],
      "text/plain": [
       "        239 \n",
       "0.001188578 "
      ]
     },
     "metadata": {},
     "output_type": "display_data"
    }
   ],
   "source": [
    "2*(1-pt(abs(ti[239]), df= 399-6-1))"
   ]
  },
  {
   "cell_type": "markdown",
   "metadata": {},
   "source": [
    "### Cook Distance"
   ]
  },
  {
   "cell_type": "code",
   "execution_count": 20,
   "metadata": {},
   "outputs": [],
   "source": [
    "library(faraway)"
   ]
  },
  {
   "cell_type": "code",
   "execution_count": 17,
   "metadata": {},
   "outputs": [],
   "source": [
    " cook <- cooks.distance(mf)"
   ]
  },
  {
   "cell_type": "code",
   "execution_count": 21,
   "metadata": {},
   "outputs": [
    {
     "data": {
      "image/png": "[encoded data removed]",
      "text/plain": [
       "plot without title"
      ]
     },
     "metadata": {
      "image/png": {
       "height": 420,
       "width": 420
      }
     },
     "output_type": "display_data"
    }
   ],
   "source": [
    "halfnorm(cook, nlab=2, ylab='cook distance')"
   ]
  },
  {
   "cell_type": "code",
   "execution_count": 23,
   "metadata": {},
   "outputs": [
    {
     "data": {
      "text/html": [
       "<table>\n",
       "<caption>A data.frame: 2 × 8</caption>\n",
       "<thead>\n",
       "\t<tr><th></th><th scope=col>Stature</th><th scope=col>Sitting.Height</th><th scope=col>SHS</th><th scope=col>BMI</th><th scope=col>L11</th><th scope=col>H17</th><th scope=col>Weight</th><th scope=col>SeatX</th></tr>\n",
       "\t<tr><th></th><th scope=col>&lt;int&gt;</th><th scope=col>&lt;int&gt;</th><th scope=col>&lt;dbl&gt;</th><th scope=col>&lt;dbl&gt;</th><th scope=col>&lt;int&gt;</th><th scope=col>&lt;int&gt;</th><th scope=col>&lt;dbl&gt;</th><th scope=col>&lt;dbl&gt;</th></tr>\n",
       "</thead>\n",
       "<tbody>\n",
       "\t<tr><th scope=row>239</th><td>1626</td><td>999</td><td>0.6143911</td><td>41.90817</td><td> 95</td><td>685</td><td>110.8</td><td>1193.290</td></tr>\n",
       "\t<tr><th scope=row>264</th><td>1740</td><td>914</td><td>0.5252874</td><td>33.29370</td><td>-55</td><td>585</td><td>100.8</td><td>1155.085</td></tr>\n",
       "</tbody>\n",
       "</table>\n"
      ],
      "text/latex": [
       "A data.frame: 2 × 8\n",
       "\\begin{tabular}{r|llllllll}\n",
       "  & Stature & Sitting.Height & SHS & BMI & L11 & H17 & Weight & SeatX\\\\\n",
       "  & <int> & <int> & <dbl> & <dbl> & <int> & <int> & <dbl> & <dbl>\\\\\n",
       "\\hline\n",
       "\t239 & 1626 & 999 & 0.6143911 & 41.90817 &  95 & 685 & 110.8 & 1193.290\\\\\n",
       "\t264 & 1740 & 914 & 0.5252874 & 33.29370 & -55 & 585 & 100.8 & 1155.085\\\\\n",
       "\\end{tabular}\n"
      ],
      "text/markdown": [
       "\n",
       "A data.frame: 2 × 8\n",
       "\n",
       "| <!--/--> | Stature &lt;int&gt; | Sitting.Height &lt;int&gt; | SHS &lt;dbl&gt; | BMI &lt;dbl&gt; | L11 &lt;int&gt; | H17 &lt;int&gt; | Weight &lt;dbl&gt; | SeatX &lt;dbl&gt; |\n",
       "|---|---|---|---|---|---|---|---|---|\n",
       "| 239 | 1626 | 999 | 0.6143911 | 41.90817 |  95 | 685 | 110.8 | 1193.290 |\n",
       "| 264 | 1740 | 914 | 0.5252874 | 33.29370 | -55 | 585 | 100.8 | 1155.085 |\n",
       "\n"
      ],
      "text/plain": [
       "    Stature Sitting.Height SHS       BMI      L11 H17 Weight SeatX   \n",
       "239 1626    999            0.6143911 41.90817  95 685 110.8  1193.290\n",
       "264 1740    914            0.5252874 33.29370 -55 585 100.8  1155.085"
      ]
     },
     "metadata": {},
     "output_type": "display_data"
    }
   ],
   "source": [
    "df[c(239, 264), ]"
   ]
  },
  {
   "cell_type": "code",
   "execution_count": null,
   "metadata": {},
   "outputs": [],
   "source": []
  }
 ],
 "metadata": {
  "kernelspec": {
   "display_name": "R",
   "language": "R",
   "name": "ir"
  },
  "language_info": {
   "codemirror_mode": "r",
   "file_extension": ".r",
   "mimetype": "text/x-r-source",
   "name": "R",
   "pygments_lexer": "r",
   "version": "3.6.1"
  }
 },
 "nbformat": 4,
 "nbformat_minor": 4
}
